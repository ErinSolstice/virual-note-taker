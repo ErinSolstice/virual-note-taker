{
 "cells": [
  {
   "cell_type": "code",
   "execution_count": null,
   "metadata": {
    "collapsed": true,
    "pycharm": {
     "name": "#%%\n",
     "is_executing": true
    }
   },
   "outputs": [],
   "source": [
    "import cv2\n",
    "from matplotlib import pyplot as plt\n",
    "import easyocr\n",
    "import argparse\n",
    "import numpy as np\n",
    "from fpdf import FPDF\n",
    "from autocorrect import Speller"
   ]
  },
  {
   "cell_type": "code",
   "execution_count": null,
   "outputs": [],
   "source": [
    "img_name = \"sampleImages/slide\"\n",
    "img_type = \".png\"\n",
    "img = cv2.imread(img_name+img_type)\n",
    "img_grey = cv2.cvtColor(img, cv2.COLOR_BGR2GRAY)\n",
    "img_blur = cv2.GaussianBlur(img_grey, (3, 3), 0)\n",
    "img_canny = cv2.Canny(img_blur, 100, 200)\n",
    "img_dil = cv2.dilate(img_canny, (3, 3))\n",
    "contours, hierarchy = cv2.findContours(img_dil, cv2.RETR_TREE, cv2.CHAIN_APPROX_NONE)\n",
    "img_copy = img.copy()"
   ],
   "metadata": {
    "collapsed": false,
    "pycharm": {
     "name": "#%%\n",
     "is_executing": true
    }
   }
  },
  {
   "cell_type": "code",
   "execution_count": null,
   "outputs": [],
   "source": [
    "\n",
    "#cv2.imshow(\"img\", img)\n",
    "#cv2.imshow(\"img_grey\", img_grey)\n",
    "#cv2.imshow(\"img_blur\", img_blur)\n",
    "cv2.imshow(\"img_canny\", img_canny)\n",
    "cv2.imshow(\"img_dil\", img_dil)\n",
    "cv2.drawContours(image=img_copy, contours=contours, contourIdx=-1, color=(0, 255, 0), thickness=1, lineType=cv2.LINE_AA)\n",
    "cv2.imshow(\"img_contour\", img_copy)\n",
    "cv2.waitKey(0)\n"
   ],
   "metadata": {
    "collapsed": false,
    "pycharm": {
     "name": "#%%\n",
     "is_executing": true
    }
   }
  },
  {
   "cell_type": "code",
   "execution_count": null,
   "outputs": [],
   "source": [
    "reader = easyocr.Reader(['en'])  # this needs to run only once to load the model into memory\n",
    "# Patrick Update with New Model"
   ],
   "metadata": {
    "collapsed": false,
    "pycharm": {
     "name": "#%%\n",
     "is_executing": true
    }
   }
  },
  {
   "cell_type": "code",
   "execution_count": null,
   "outputs": [],
   "source": [
    "# Use OCR model to extract text\n",
    "results = reader.readtext(img)"
   ],
   "metadata": {
    "collapsed": false,
    "pycharm": {
     "name": "#%%\n",
     "is_executing": true
    }
   }
  },
  {
   "cell_type": "code",
   "execution_count": null,
   "outputs": [],
   "source": [
    "# Cleanup Function\n",
    "def cleanup_text(text):\n",
    "    # strip out non-ASCII text so we can draw the text on the image\n",
    "    # using OpenCV\n",
    "    return \"\".join([c if ord(c) < 128 else \"\" for c in text]).strip()\n",
    "\n",
    "# Duplicate image\n",
    "cloneImg = img.copy()\n",
    "\n",
    "# loop over the results and clean up text\n",
    "for (bbox, text, prob) in results:\n",
    "    # display the OCR'd text and associated probability\n",
    "    print(\"[INFO] {:.4f}: {}\".format(prob, text))\n",
    "    # unpack the bounding box\n",
    "    (tl, tr, br, bl) = bbox\n",
    "    tl = (int(tl[0]), int(tl[1]))\n",
    "    tr = (int(tr[0]), int(tr[1]))\n",
    "    br = (int(br[0]), int(br[1]))\n",
    "    bl = (int(bl[0]), int(bl[1]))\n",
    "    # cleanup the text and draw the box surrounding the text along\n",
    "    # with the OCR'd text itself\n",
    "    text = cleanup_text(text)\n",
    "    cv2.rectangle(cloneImg, tl, br, (0, 255, 0), 2)\n",
    "#\tcv2.putText(cloneImg, text, (tl[0], tl[1] - 10),\n",
    "#   cv2.FONT_HERSHEY_SIMPLEX, 0.8, (0, 255, 0), 2)\n",
    "\n",
    "# Print final output text\n",
    "final_text = \"\"\n",
    "for _, text, __ in results:  # _ = bounding box, text = text and __ = confident level\n",
    "    final_text += \" \"\n",
    "    final_text += text\n",
    "print(final_text)"
   ],
   "metadata": {
    "collapsed": false,
    "pycharm": {
     "name": "#%%\n",
     "is_executing": true
    }
   }
  },
  {
   "cell_type": "code",
   "execution_count": null,
   "outputs": [],
   "source": [
    "spell = Speller()"
   ],
   "metadata": {
    "collapsed": false,
    "pycharm": {
     "name": "#%%\n",
     "is_executing": true
    }
   }
  },
  {
   "cell_type": "code",
   "execution_count": null,
   "outputs": [],
   "source": [
    "# Calculate image size\n",
    "sz = img.shape\n",
    "\n",
    "# Convert height and width to inches\n",
    "H = 8.5*25.4/0.35\n",
    "W = 11*25.4/0.35\n",
    "\n",
    "# Scale image to PDF size\n",
    "    #If height is greater than pdf height scale down\n",
    "if sz[1] > H:\n",
    "    scale1 = H/sz[1]\n",
    "else:\n",
    "    scale1 = 1\n",
    "\n",
    "    #If width is greater than pdf width scale down\n",
    "if sz[2] > W:\n",
    "    scale2 = W/sz[2]\n",
    "else:\n",
    "    scale2 = 1\n",
    "\n",
    "    #Use larger scale factor\n",
    "if scale1 < scale2:\n",
    "    scale = scale1\n",
    "elif scale2 < scale1:\n",
    "    scale = scale2\n",
    "else:\n",
    "    scale = 1\n",
    "\n",
    "# Store length of results\n",
    "i = len(results)\n",
    "\n",
    "# Define PDF using FPDF\n",
    "pdf = FPDF(orientation='L', unit='pt')\n",
    "pdf.add_page()\n",
    "\n",
    "# Loop through results and save text to PDF\n",
    "for x in range(i):\n",
    "    pdf.set_xy(results[x][0][0][0]*scale, results[x][0][0][1]*scale)\n",
    "    pdf.set_font(\"Arial\", size=(results[x][0][2][1] - results[x][0][0][1]-3)*scale)\n",
    "    pdf.cell((results[x][0][1][0] - results[x][0][0][0])*scale, (results[x][0][2][1] - results[x][0][0][1])*scale,\n",
    "             txt=spell(results[x][1]))\n",
    "\n",
    "# Save output PDF\n",
    "pdf.output(img_name + '.pdf')"
   ],
   "metadata": {
    "collapsed": false,
    "pycharm": {
     "name": "#%%\n",
     "is_executing": true
    }
   }
  }
 ],
 "metadata": {
  "kernelspec": {
   "display_name": "Python 3",
   "language": "python",
   "name": "python3"
  },
  "language_info": {
   "codemirror_mode": {
    "name": "ipython",
    "version": 2
   },
   "file_extension": ".py",
   "mimetype": "text/x-python",
   "name": "python",
   "nbconvert_exporter": "python",
   "pygments_lexer": "ipython2",
   "version": "2.7.6"
  }
 },
 "nbformat": 4,
 "nbformat_minor": 0
}