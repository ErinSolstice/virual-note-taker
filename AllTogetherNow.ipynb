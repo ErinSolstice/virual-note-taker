{
 "cells": [
  {
   "cell_type": "code",
   "execution_count": 5,
   "metadata": {
    "pycharm": {
     "is_executing": true,
     "name": "#%%\n"
    }
   },
   "outputs": [],
   "source": [
    "# from matplotlib import pyplot as plt\n",
    "import easyocr\n",
    "# import argparse\n",
    "import numpy as np\n",
    "from fpdf import FPDF\n",
    "from autocorrect import Speller"
   ]
  },
  {
   "cell_type": "code",
   "execution_count": 13,
   "metadata": {
    "pycharm": {
     "name": "#%%\n"
    }
   },
   "outputs": [],
   "source": [
    "import cv2\n",
    "img_name = \"sampleImages/dataset\"\n",
    "img_type = \".png\"\n",
    "img = cv2.imread(img_name+img_type)\n",
    "img_grey = cv2.cvtColor(img, cv2.COLOR_BGR2GRAY)\n",
    "img_blur = cv2.GaussianBlur(img_grey, (3, 3), 0)\n",
    "img_canny = cv2.Canny(img_blur, 100, 200)\n",
    "img_dil = cv2.dilate(img_canny, (3, 3))\n",
    "contours, hierarchy = cv2.findContours(img_dil, cv2.RETR_TREE, cv2.CHAIN_APPROX_NONE)\n",
    "img_copy = img.copy()"
   ]
  },
  {
   "cell_type": "code",
   "execution_count": 7,
   "metadata": {
    "pycharm": {
     "name": "#%%\n"
    }
   },
   "outputs": [
    {
     "data": {
      "text/plain": [
       "-1"
      ]
     },
     "execution_count": 7,
     "metadata": {},
     "output_type": "execute_result"
    }
   ],
   "source": [
    "\n",
    "#cv2.imshow(\"img\", img)\n",
    "#cv2.imshow(\"img_grey\", img_grey)\n",
    "#cv2.imshow(\"img_blur\", img_blur)\n",
    "cv2.imshow(\"img_canny\", img_canny)\n",
    "cv2.imshow(\"img_dil\", img_dil)\n",
    "cv2.drawContours(image=img_copy, contours=contours, contourIdx=-1, color=(0, 255, 0), thickness=1, lineType=cv2.LINE_AA)\n",
    "cv2.imshow(\"img_contour\", img_copy)\n",
    "cv2.waitKey(0)\n"
   ]
  },
  {
   "cell_type": "code",
   "execution_count": 16,
   "metadata": {
    "pycharm": {
     "name": "#%%\n"
    }
   },
   "outputs": [
    {
     "data": {
      "text/plain": [
       "\"reader_bel = easyocr.Reader(['en'], recog_network='bel_only')\\nreader_g2-wb = easyocr.Reader(['en'], recog_network='g2_wb')\\nreader_g2-bel = easyocr.Reader(['en'], recog_network='g2_bel')\""
      ]
     },
     "execution_count": 16,
     "metadata": {},
     "output_type": "execute_result"
    }
   ],
   "source": [
    "reader = easyocr.Reader(['en'], recog_network='wb_only')\n",
    "reader_g2 = easyocr.Reader(['en'])  # this needs to run only once to load the model into memory\n",
    "reader_wb = easyocr.Reader(['en'], recog_network='wb_only')\n",
    "\"\"\"reader_bel = easyocr.Reader(['en'], recog_network='bel_only')\n",
    "reader_g2-wb = easyocr.Reader(['en'], recog_network='g2_wb')\n",
    "reader_g2-bel = easyocr.Reader(['en'], recog_network='g2_bel')\"\"\"\n",
    "\n",
    "# select the model you wish to run 'yourModel.pth'\n",
    "# place '*.pth' in model directory (default = `~/.EasyOCR/model`)\n",
    "# copy `custom_example.py` and `custom_example.yaml` from the /trainer/custom_example/ folder and rename them to your model name\n",
    "# place the renamed `yourModel.py`, `yourModel.yaml` in the `user_network_directory` (default = `~/.EasyOCR/user_network`)\n",
    "# specify `recog_network` like this `reader = easyocr.Reader(['en'], recog_network='yourModel')`.\n",
    "\n",
    "spell = Speller()"
   ]
  },
  {
   "cell_type": "code",
   "execution_count": 21,
   "metadata": {
    "pycharm": {
     "name": "#%%\n"
    }
   },
   "outputs": [],
   "source": [
    "# Use OCR model to extract text\n",
    "results = reader_wb.readtext(img)"
   ]
  },
  {
   "cell_type": "code",
   "execution_count": 22,
   "metadata": {
    "pycharm": {
     "name": "#%%\n"
    }
   },
   "outputs": [
    {
     "name": "stdout",
     "output_type": "stream",
     "text": [
      "[INFO] 0.3425: afor ooe\n",
      "[INFO] 0.4219: pooz othe a\n",
      "[INFO] 0.2093: B7oaghe Bly\n",
      "[INFO] 0.3892: Aoia atreof Aof\n",
      "[INFO] 0.0848: Aotpho9\n",
      "[INFO] 0.1809: Aoax bund b1\n",
      "[INFO] 0.2642: de tatpReaohe\n",
      "[INFO] 0.4686: Afdern \n",
      "[INFO] 0.0830: fot7, tod ppf7zh\n",
      "[INFO] 0.6335: hhodiog\n",
      "[INFO] 0.8513: Allanptoy\n",
      "[INFO] 0.0920: Aeltze Bofhe\"\n",
      "[INFO] 0.5009: Blag\n",
      "[INFO] 0.0774: Nh. N2e fooxoh bee\n",
      "[INFO] 0.1132: Betth AhptpMqtpestibly\n",
      "[INFO] 0.1205: lhafo gn j hedr\n",
      "[INFO] 0.3501: Aa7 prMrtt\n",
      " afor ooe pooz othe a B7oaghe Bly Aoia atreof Aof Aotpho9 Aoax bund b1 de tatpReaohe Afdern  fot7, tod ppf7zh hhodiog Allanptoy Aeltze Bofhe\" Blag Nh. N2e fooxoh bee Betth AhptpMqtpestibly lhafo gn j hedr Aa7 prMrtt\n"
     ]
    }
   ],
   "source": [
    "# Cleanup Function\n",
    "def cleanup_text(text):\n",
    "    # strip out non-ASCII text so we can draw the text on the image\n",
    "    # using OpenCV\n",
    "    return \"\".join([c if ord(c) < 128 else \"\" for c in text]).strip()\n",
    "\n",
    "# Duplicate image\n",
    "cloneImg = img.copy()\n",
    "\n",
    "# loop over the results and clean up text\n",
    "for (bbox, text, prob) in results:\n",
    "    # display the OCR text and associated probability\n",
    "    print(\"[INFO] {:.4f}: {}\".format(prob, text))\n",
    "    # unpack the bounding box\n",
    "    (tl, tr, br, bl) = bbox\n",
    "    tl = (int(tl[0]), int(tl[1]))\n",
    "    tr = (int(tr[0]), int(tr[1]))\n",
    "    br = (int(br[0]), int(br[1]))\n",
    "    bl = (int(bl[0]), int(bl[1]))\n",
    "    # cleanup the text and draw the box surrounding the text along\n",
    "    # with the OCR text itself\n",
    "    text = cleanup_text(text)\n",
    "    cv2.rectangle(cloneImg, tl, br, (0, 255, 0), 2)\n",
    "#\tcv2.putText(cloneImg, text, (tl[0], tl[1] - 10),\n",
    "#   cv2.FONT_HERSHEY_SIMPLEX, 0.8, (0, 255, 0), 2)\n",
    "\n",
    "# Print final output text\n",
    "final_text = \"\"\n",
    "for _, text, __ in results:  # _ = bounding box, text = text and __ = confident level\n",
    "    final_text += \" \"\n",
    "    final_text += text\n",
    "print(final_text)"
   ]
  },
  {
   "cell_type": "code",
   "execution_count": 24,
   "metadata": {
    "pycharm": {
     "name": "#%%\n"
    }
   },
   "outputs": [
    {
     "data": {
      "text/plain": [
       "''"
      ]
     },
     "execution_count": 24,
     "metadata": {},
     "output_type": "execute_result"
    }
   ],
   "source": [
    "# Calculate image size\n",
    "sz = img.shape\n",
    "\n",
    "# Convert height and width to inches\n",
    "H = 8.5*25.4/0.35\n",
    "W = 11*25.4/0.35\n",
    "\n",
    "# Scale image to PDF size\n",
    "    #If height is greater than pdf height scale down\n",
    "if sz[1] > H:\n",
    "    scale1 = H/sz[1]\n",
    "else:\n",
    "    scale1 = 1\n",
    "\n",
    "    #If width is greater than pdf width scale down\n",
    "if sz[2] > W:\n",
    "    scale2 = W/sz[2]\n",
    "else:\n",
    "    scale2 = 1\n",
    "\n",
    "    #Use larger scale factor\n",
    "if scale1 < scale2:\n",
    "    scale = scale1\n",
    "elif scale2 < scale1:\n",
    "    scale = scale2\n",
    "else:\n",
    "    scale = 1\n",
    "\n",
    "# Store length of results\n",
    "i = len(results)\n",
    "\n",
    "# Define PDF using FPDF\n",
    "pdf = FPDF(orientation='L', unit='pt')\n",
    "pdf.add_page()\n",
    "\n",
    "# Loop through results and save text to PDF\n",
    "for x in range(i):\n",
    "    pdf.set_xy(results[x][0][0][0]*scale, results[x][0][0][1]*scale)\n",
    "    pdf.set_font(\"Arial\", size=(results[x][0][2][1] - results[x][0][0][1]-3)*scale)\n",
    "    pdf.cell((results[x][0][1][0] - results[x][0][0][0])*scale, (results[x][0][2][1] - results[x][0][0][1])*scale,\n",
    "             txt=spell(results[x][1]))\n",
    "\n",
    "# Save output PDF\n",
    "pdf.output(img_name + '.pdf')"
   ]
  }
 ],
 "metadata": {
  "kernelspec": {
   "display_name": "Python [conda env:.conda-ocrModelRun]",
   "language": "python",
   "name": "conda-env-.conda-ocrModelRun-py"
  },
  "language_info": {
   "codemirror_mode": {
    "name": "ipython",
    "version": 3
   },
   "file_extension": ".py",
   "mimetype": "text/x-python",
   "name": "python",
   "nbconvert_exporter": "python",
   "pygments_lexer": "ipython3",
   "version": "3.9.12"
  }
 },
 "nbformat": 4,
 "nbformat_minor": 1
}
