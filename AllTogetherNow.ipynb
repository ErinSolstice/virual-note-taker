{
 "cells": [
  {
   "cell_type": "code",
   "execution_count": 1,
   "outputs": [],
   "source": [
    "# from matplotlib import pyplot as plt\n",
    "import easyocr\n",
    "# import argparse\n",
    "import numpy as np\n",
    "from fpdf import FPDF\n",
    "from autocorrect import Speller"
   ],
   "metadata": {
    "collapsed": false,
    "pycharm": {
     "name": "#%%\n"
    }
   }
  },
  {
   "cell_type": "code",
   "execution_count": 5,
   "metadata": {
    "pycharm": {
     "name": "#%%\n"
    }
   },
   "outputs": [],
   "source": [
    "import cv2\n",
    "img_name = \"sampleImages/slide\"\n",
    "img_type = \".png\"\n",
    "img = cv2.imread(img_name+img_type)\n",
    "img_grey = cv2.cvtColor(img, cv2.COLOR_BGR2GRAY)\n",
    "img_blur = cv2.GaussianBlur(img_grey, (3, 3), 0)\n",
    "img_canny = cv2.Canny(img_blur, 100, 200)\n",
    "img_dil = cv2.dilate(img_canny, (3, 3))\n",
    "contours, hierarchy = cv2.findContours(img_dil, cv2.RETR_TREE, cv2.CHAIN_APPROX_NONE)\n",
    "img_copy = img.copy()"
   ]
  },
  {
   "cell_type": "code",
   "execution_count": 6,
   "metadata": {
    "pycharm": {
     "name": "#%%\n"
    }
   },
   "outputs": [
    {
     "ename": "error",
     "evalue": "OpenCV(4.5.4) D:\\a\\opencv-python\\opencv-python\\opencv\\modules\\highgui\\src\\window.cpp:1274: error: (-2:Unspecified error) The function is not implemented. Rebuild the library with Windows, GTK+ 2.x or Cocoa support. If you are on Ubuntu or Debian, install libgtk2.0-dev and pkg-config, then re-run cmake or configure script in function 'cvShowImage'\n",
     "output_type": "error",
     "traceback": [
      "\u001B[1;31m---------------------------------------------------------------------------\u001B[0m",
      "\u001B[1;31merror\u001B[0m                                     Traceback (most recent call last)",
      "\u001B[1;32m~\\AppData\\Local\\Temp/ipykernel_20448/2066658220.py\u001B[0m in \u001B[0;36m<module>\u001B[1;34m\u001B[0m\n\u001B[0;32m      2\u001B[0m \u001B[1;31m#cv2.imshow(\"img_grey\", img_grey)\u001B[0m\u001B[1;33m\u001B[0m\u001B[1;33m\u001B[0m\u001B[0m\n\u001B[0;32m      3\u001B[0m \u001B[1;31m#cv2.imshow(\"img_blur\", img_blur)\u001B[0m\u001B[1;33m\u001B[0m\u001B[1;33m\u001B[0m\u001B[0m\n\u001B[1;32m----> 4\u001B[1;33m \u001B[0mcv2\u001B[0m\u001B[1;33m.\u001B[0m\u001B[0mimshow\u001B[0m\u001B[1;33m(\u001B[0m\u001B[1;34m\"img_canny\"\u001B[0m\u001B[1;33m,\u001B[0m \u001B[0mimg_canny\u001B[0m\u001B[1;33m)\u001B[0m\u001B[1;33m\u001B[0m\u001B[1;33m\u001B[0m\u001B[0m\n\u001B[0m\u001B[0;32m      5\u001B[0m \u001B[0mcv2\u001B[0m\u001B[1;33m.\u001B[0m\u001B[0mimshow\u001B[0m\u001B[1;33m(\u001B[0m\u001B[1;34m\"img_dil\"\u001B[0m\u001B[1;33m,\u001B[0m \u001B[0mimg_dil\u001B[0m\u001B[1;33m)\u001B[0m\u001B[1;33m\u001B[0m\u001B[1;33m\u001B[0m\u001B[0m\n\u001B[0;32m      6\u001B[0m \u001B[0mcv2\u001B[0m\u001B[1;33m.\u001B[0m\u001B[0mdrawContours\u001B[0m\u001B[1;33m(\u001B[0m\u001B[0mimage\u001B[0m\u001B[1;33m=\u001B[0m\u001B[0mimg_copy\u001B[0m\u001B[1;33m,\u001B[0m \u001B[0mcontours\u001B[0m\u001B[1;33m=\u001B[0m\u001B[0mcontours\u001B[0m\u001B[1;33m,\u001B[0m \u001B[0mcontourIdx\u001B[0m\u001B[1;33m=\u001B[0m\u001B[1;33m-\u001B[0m\u001B[1;36m1\u001B[0m\u001B[1;33m,\u001B[0m \u001B[0mcolor\u001B[0m\u001B[1;33m=\u001B[0m\u001B[1;33m(\u001B[0m\u001B[1;36m0\u001B[0m\u001B[1;33m,\u001B[0m \u001B[1;36m255\u001B[0m\u001B[1;33m,\u001B[0m \u001B[1;36m0\u001B[0m\u001B[1;33m)\u001B[0m\u001B[1;33m,\u001B[0m \u001B[0mthickness\u001B[0m\u001B[1;33m=\u001B[0m\u001B[1;36m1\u001B[0m\u001B[1;33m,\u001B[0m \u001B[0mlineType\u001B[0m\u001B[1;33m=\u001B[0m\u001B[0mcv2\u001B[0m\u001B[1;33m.\u001B[0m\u001B[0mLINE_AA\u001B[0m\u001B[1;33m)\u001B[0m\u001B[1;33m\u001B[0m\u001B[1;33m\u001B[0m\u001B[0m\n",
      "\u001B[1;31merror\u001B[0m: OpenCV(4.5.4) D:\\a\\opencv-python\\opencv-python\\opencv\\modules\\highgui\\src\\window.cpp:1274: error: (-2:Unspecified error) The function is not implemented. Rebuild the library with Windows, GTK+ 2.x or Cocoa support. If you are on Ubuntu or Debian, install libgtk2.0-dev and pkg-config, then re-run cmake or configure script in function 'cvShowImage'\n"
     ]
    }
   ],
   "source": [
    "\n",
    "#cv2.imshow(\"img\", img)\n",
    "#cv2.imshow(\"img_grey\", img_grey)\n",
    "#cv2.imshow(\"img_blur\", img_blur)\n",
    "cv2.imshow(\"img_canny\", img_canny)\n",
    "cv2.imshow(\"img_dil\", img_dil)\n",
    "cv2.drawContours(image=img_copy, contours=contours, contourIdx=-1, color=(0, 255, 0), thickness=1, lineType=cv2.LINE_AA)\n",
    "cv2.imshow(\"img_contour\", img_copy)\n",
    "cv2.waitKey(0)\n"
   ]
  },
  {
   "cell_type": "code",
   "execution_count": null,
   "metadata": {
    "pycharm": {
     "name": "#%%\n"
    }
   },
   "outputs": [],
   "source": [
    "reader = easyocr.Reader(['en'])  # this needs to run only once to load the model into memory\n",
    "# Patrick Update with New Model"
   ]
  },
  {
   "cell_type": "code",
   "execution_count": null,
   "metadata": {
    "pycharm": {
     "name": "#%%\n"
    }
   },
   "outputs": [],
   "source": [
    "# Use OCR model to extract text\n",
    "results = reader.readtext(img)"
   ]
  },
  {
   "cell_type": "code",
   "execution_count": null,
   "metadata": {
    "pycharm": {
     "name": "#%%\n"
    }
   },
   "outputs": [],
   "source": [
    "# Cleanup Function\n",
    "def cleanup_text(text):\n",
    "    # strip out non-ASCII text so we can draw the text on the image\n",
    "    # using OpenCV\n",
    "    return \"\".join([c if ord(c) < 128 else \"\" for c in text]).strip()\n",
    "\n",
    "# Duplicate image\n",
    "cloneImg = img.copy()\n",
    "\n",
    "# loop over the results and clean up text\n",
    "for (bbox, text, prob) in results:\n",
    "    # display the OCR text and associated probability\n",
    "    print(\"[INFO] {:.4f}: {}\".format(prob, text))\n",
    "    # unpack the bounding box\n",
    "    (tl, tr, br, bl) = bbox\n",
    "    tl = (int(tl[0]), int(tl[1]))\n",
    "    tr = (int(tr[0]), int(tr[1]))\n",
    "    br = (int(br[0]), int(br[1]))\n",
    "    bl = (int(bl[0]), int(bl[1]))\n",
    "    # cleanup the text and draw the box surrounding the text along\n",
    "    # with the OCR text itself\n",
    "    text = cleanup_text(text)\n",
    "    cv2.rectangle(cloneImg, tl, br, (0, 255, 0), 2)\n",
    "#\tcv2.putText(cloneImg, text, (tl[0], tl[1] - 10),\n",
    "#   cv2.FONT_HERSHEY_SIMPLEX, 0.8, (0, 255, 0), 2)\n",
    "\n",
    "# Print final output text\n",
    "final_text = \"\"\n",
    "for _, text, __ in results:  # _ = bounding box, text = text and __ = confident level\n",
    "    final_text += \" \"\n",
    "    final_text += text\n",
    "print(final_text)"
   ]
  },
  {
   "cell_type": "code",
   "execution_count": null,
   "metadata": {
    "pycharm": {
     "name": "#%%\n"
    }
   },
   "outputs": [],
   "source": [
    "spell = Speller()"
   ]
  },
  {
   "cell_type": "code",
   "execution_count": null,
   "metadata": {
    "pycharm": {
     "name": "#%%\n"
    }
   },
   "outputs": [],
   "source": [
    "# Calculate image size\n",
    "sz = img.shape\n",
    "\n",
    "# Convert height and width to inches\n",
    "H = 8.5*25.4/0.35\n",
    "W = 11*25.4/0.35\n",
    "\n",
    "# Scale image to PDF size\n",
    "    #If height is greater than pdf height scale down\n",
    "if sz[1] > H:\n",
    "    scale1 = H/sz[1]\n",
    "else:\n",
    "    scale1 = 1\n",
    "\n",
    "    #If width is greater than pdf width scale down\n",
    "if sz[2] > W:\n",
    "    scale2 = W/sz[2]\n",
    "else:\n",
    "    scale2 = 1\n",
    "\n",
    "    #Use larger scale factor\n",
    "if scale1 < scale2:\n",
    "    scale = scale1\n",
    "elif scale2 < scale1:\n",
    "    scale = scale2\n",
    "else:\n",
    "    scale = 1\n",
    "\n",
    "# Store length of results\n",
    "i = len(results)\n",
    "\n",
    "# Define PDF using FPDF\n",
    "pdf = FPDF(orientation='L', unit='pt')\n",
    "pdf.add_page()\n",
    "\n",
    "# Loop through results and save text to PDF\n",
    "for x in range(i):\n",
    "    pdf.set_xy(results[x][0][0][0]*scale, results[x][0][0][1]*scale)\n",
    "    pdf.set_font(\"Arial\", size=(results[x][0][2][1] - results[x][0][0][1]-3)*scale)\n",
    "    pdf.cell((results[x][0][1][0] - results[x][0][0][0])*scale, (results[x][0][2][1] - results[x][0][0][1])*scale,\n",
    "             txt=spell(results[x][1]))\n",
    "\n",
    "# Save output PDF\n",
    "pdf.output(img_name + '.pdf')"
   ]
  }
 ],
 "metadata": {
  "kernelspec": {
   "display_name": "Python 3 (ipykernel)",
   "language": "python",
   "name": "python3"
  },
  "language_info": {
   "codemirror_mode": {
    "name": "ipython",
    "version": 3
   },
   "file_extension": ".py",
   "mimetype": "text/x-python",
   "name": "python",
   "nbconvert_exporter": "python",
   "pygments_lexer": "ipython3",
   "version": "3.9.7"
  }
 },
 "nbformat": 4,
 "nbformat_minor": 1
}