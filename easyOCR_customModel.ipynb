{
 "cells": [
  {
   "cell_type": "code",
   "execution_count": 1,
   "id": "8169cbb0",
   "metadata": {
    "pycharm": {
     "name": "#%%\n"
    }
   },
   "outputs": [],
   "source": [
    "import easyocr\n",
    "import argparse\n",
    "import cv2\n",
    "import numpy as np"
   ]
  },
  {
   "cell_type": "code",
   "execution_count": 2,
   "id": "71f153b5",
   "metadata": {
    "pycharm": {
     "name": "#%%\n"
    }
   },
   "outputs": [
    {
     "ename": "FileNotFoundError",
     "evalue": "[Errno 2] No such file or directory: 'C:\\\\Users\\\\nospf/.EasyOCR//user_network\\\\wb_only.yaml'",
     "output_type": "error",
     "traceback": [
      "\u001B[1;31m---------------------------------------------------------------------------\u001B[0m",
      "\u001B[1;31mFileNotFoundError\u001B[0m                         Traceback (most recent call last)",
      "Input \u001B[1;32mIn [2]\u001B[0m, in \u001B[0;36m<cell line: 1>\u001B[1;34m()\u001B[0m\n\u001B[1;32m----> 1\u001B[0m reader \u001B[38;5;241m=\u001B[39m \u001B[43measyocr\u001B[49m\u001B[38;5;241;43m.\u001B[39;49m\u001B[43mReader\u001B[49m\u001B[43m(\u001B[49m\u001B[43m[\u001B[49m\u001B[38;5;124;43m'\u001B[39;49m\u001B[38;5;124;43men\u001B[39;49m\u001B[38;5;124;43m'\u001B[39;49m\u001B[43m]\u001B[49m\u001B[43m,\u001B[49m\u001B[43m \u001B[49m\u001B[43mrecog_network\u001B[49m\u001B[38;5;241;43m=\u001B[39;49m\u001B[38;5;124;43m'\u001B[39;49m\u001B[38;5;124;43mwb_only\u001B[39;49m\u001B[38;5;124;43m'\u001B[39;49m\u001B[43m)\u001B[49m\n",
      "File \u001B[1;32m~\\anaconda3\\lib\\site-packages\\easyocr\\easyocr.py:203\u001B[0m, in \u001B[0;36mReader.__init__\u001B[1;34m(self, lang_list, gpu, model_storage_directory, user_network_directory, recog_network, download_enabled, detector, recognizer, verbose, quantize, cudnn_benchmark)\u001B[0m\n\u001B[0;32m    200\u001B[0m     \u001B[38;5;28mself\u001B[39m\u001B[38;5;241m.\u001B[39msetLanguageList(lang_list, model)\n\u001B[0;32m    202\u001B[0m \u001B[38;5;28;01melse\u001B[39;00m: \u001B[38;5;66;03m# user-defined model\u001B[39;00m\n\u001B[1;32m--> 203\u001B[0m     \u001B[38;5;28;01mwith\u001B[39;00m \u001B[38;5;28;43mopen\u001B[39;49m\u001B[43m(\u001B[49m\u001B[43mos\u001B[49m\u001B[38;5;241;43m.\u001B[39;49m\u001B[43mpath\u001B[49m\u001B[38;5;241;43m.\u001B[39;49m\u001B[43mjoin\u001B[49m\u001B[43m(\u001B[49m\u001B[38;5;28;43mself\u001B[39;49m\u001B[38;5;241;43m.\u001B[39;49m\u001B[43muser_network_directory\u001B[49m\u001B[43m,\u001B[49m\u001B[43m \u001B[49m\u001B[43mrecog_network\u001B[49m\u001B[38;5;241;43m+\u001B[39;49m\u001B[43m \u001B[49m\u001B[38;5;124;43m'\u001B[39;49m\u001B[38;5;124;43m.yaml\u001B[39;49m\u001B[38;5;124;43m'\u001B[39;49m\u001B[43m)\u001B[49m\u001B[43m,\u001B[49m\u001B[43m \u001B[49m\u001B[43mencoding\u001B[49m\u001B[38;5;241;43m=\u001B[39;49m\u001B[38;5;124;43m'\u001B[39;49m\u001B[38;5;124;43mutf8\u001B[39;49m\u001B[38;5;124;43m'\u001B[39;49m\u001B[43m)\u001B[49m \u001B[38;5;28;01mas\u001B[39;00m file:\n\u001B[0;32m    204\u001B[0m         recog_config \u001B[38;5;241m=\u001B[39m yaml\u001B[38;5;241m.\u001B[39mload(file, Loader\u001B[38;5;241m=\u001B[39myaml\u001B[38;5;241m.\u001B[39mFullLoader)\n\u001B[0;32m    205\u001B[0m     imgH \u001B[38;5;241m=\u001B[39m recog_config[\u001B[38;5;124m'\u001B[39m\u001B[38;5;124mimgH\u001B[39m\u001B[38;5;124m'\u001B[39m]\n",
      "\u001B[1;31mFileNotFoundError\u001B[0m: [Errno 2] No such file or directory: 'C:\\\\Users\\\\nospf/.EasyOCR//user_network\\\\wb_only.yaml'"
     ]
    }
   ],
   "source": [
    "reader = easyocr.Reader(['en'], recog_network='wb_only')  # this needs to run only once to load the model into memory"
   ]
  },
  {
   "cell_type": "code",
   "execution_count": null,
   "id": "962c8c5f",
   "metadata": {
    "pycharm": {
     "name": "#%%\n"
    }
   },
   "outputs": [],
   "source": [
    "img = cv2.imread('sampleImages\\\\testHW.png')\n",
    "results = reader.readtext(img)\n",
    "\n",
    "\n",
    "def cleanup_text(text):\n",
    "\t# strip out non-ASCII text so we can draw the text on the image\n",
    "\t# using OpenCV\n",
    "\treturn \"\".join([c if ord(c) < 128 else \"\" for c in text]).strip()\n",
    "\n",
    "\n",
    "cloneImg = img.copy()\n",
    "cv2.imshow('image', cloneImg)\n",
    "\n",
    "# loop over the results\n",
    "for (bbox, text, prob) in results:\n",
    "\t# display the OCR'd text and associated probability\n",
    "\tprint(\"[INFO] {:.4f}: {}\".format(prob, text))\n",
    "\t# unpack the bounding box\n",
    "\t(tl, tr, br, bl) = bbox\n",
    "\ttl = (int(tl[0]), int(tl[1]))\n",
    "\ttr = (int(tr[0]), int(tr[1]))\n",
    "\tbr = (int(br[0]), int(br[1]))\n",
    "\tbl = (int(bl[0]), int(bl[1]))\n",
    "\t# cleanup the text and draw the box surrounding the text along\n",
    "\t# with the OCR'd text itself\n",
    "\ttext = cleanup_text(text)\n",
    "\tcv2.rectangle(cloneImg, tl, br, (0, 255, 0), 2)\n",
    "\n",
    "\n",
    "#\tcv2.putText(cloneImg, text, (tl[0], tl[1] - 10),\n",
    "\n",
    "#   cv2.FONT_HERSHEY_SIMPLEX, 0.8, (0, 255, 0), 2)\n",
    "\n",
    "final_text = \"\"\n",
    "for _, text, __ in results: # _ = bounding box, text = text and __ = confident level\n",
    "\tfinal_text += \" \"\n",
    "\tfinal_text += text\n",
    "print(final_text)\n",
    "\n",
    "# show the output image\n",
    "cv2.imshow('image', cloneImg)\n",
    "cv2.waitKey(0)"
   ]
  },
  {
   "cell_type": "code",
   "execution_count": null,
   "id": "4c2be9a5",
   "metadata": {
    "pycharm": {
     "name": "#%%\n"
    }
   },
   "outputs": [],
   "source": []
  }
 ],
 "metadata": {
  "kernelspec": {
   "display_name": "Python 3 (ipykernel)",
   "language": "python",
   "name": "python3"
  },
  "language_info": {
   "codemirror_mode": {
    "name": "ipython",
    "version": 3
   },
   "file_extension": ".py",
   "mimetype": "text/x-python",
   "name": "python",
   "nbconvert_exporter": "python",
   "pygments_lexer": "ipython3",
   "version": "3.9.7"
  }
 },
 "nbformat": 4,
 "nbformat_minor": 5
}