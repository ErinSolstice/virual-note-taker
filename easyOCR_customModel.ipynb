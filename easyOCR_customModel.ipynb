{
 "cells": [
  {
   "cell_type": "code",
   "execution_count": 1,
   "id": "8169cbb0",
   "metadata": {},
   "outputs": [],
   "source": [
    "import easyocr\n",
    "import argparse\n",
    "import cv2\n",
    "import numpy as np"
   ]
  },
  {
   "cell_type": "code",
   "execution_count": 6,
   "id": "71f153b5",
   "metadata": {},
   "outputs": [],
   "source": [
    "reader = easyocr.Reader(['en'], recog_network='wb_only')  # this needs to run only once to load the model into memory"
   ]
  },
  {
   "cell_type": "code",
   "execution_count": 8,
   "id": "962c8c5f",
   "metadata": {},
   "outputs": [
    {
     "name": "stdout",
     "output_type": "stream",
     "text": [
      "[INFO] 0.2727: atblahs gro)\n",
      "[INFO] 0.0713: \" ofa) aurss pugg uidxezred&ufe nadwu 1o1\n",
      "[INFO] 0.1956: By eufee rnca -\n",
      "[INFO] 0.1090: poe o NNpn\n",
      "[INFO] 0.1943: srosry Goge te pra&ps osa& biag pog \n",
      "[INFO] 0.1214: peotehepredbeg of is Dlle\n",
      "[INFO] 0.1624: wpn men,\n",
      "[INFO] 0.0651: porag Pagrefebs gef\n",
      "[INFO] 0.2215: Gale9y feefang\n",
      "[INFO] 0.2215: Obiesirssiesieitnygege\n",
      "[INFO] 0.0832: pozssd lura 1991 Bgep\n",
      "[INFO] 0.2379: Afrypfe 5 \n",
      " atblahs gro) \" ofa) aurss pugg uidxezred&ufe nadwu 1o1 By eufee rnca - poe o NNpn srosry Goge te pra&ps osa& biag pog  peotehepredbeg of is Dlle wpn men, porag Pagrefebs gef Gale9y feefang Obiesirssiesieitnygege pozssd lura 1991 Bgep Afrypfe 5 \n"
     ]
    },
    {
     "data": {
      "text/plain": [
       "-1"
      ]
     },
     "execution_count": 8,
     "metadata": {},
     "output_type": "execute_result"
    }
   ],
   "source": [
    "img = cv2.imread('sampleImages\\\\testHW.png')\n",
    "results = reader.readtext(img)\n",
    "\n",
    "\n",
    "def cleanup_text(text):\n",
    "\t# strip out non-ASCII text so we can draw the text on the image\n",
    "\t# using OpenCV\n",
    "\treturn \"\".join([c if ord(c) < 128 else \"\" for c in text]).strip()\n",
    "\n",
    "\n",
    "cloneImg = img.copy()\n",
    "cv2.imshow('image', cloneImg)\n",
    "\n",
    "# loop over the results\n",
    "for (bbox, text, prob) in results:\n",
    "\t# display the OCR'd text and associated probability\n",
    "\tprint(\"[INFO] {:.4f}: {}\".format(prob, text))\n",
    "\t# unpack the bounding box\n",
    "\t(tl, tr, br, bl) = bbox\n",
    "\ttl = (int(tl[0]), int(tl[1]))\n",
    "\ttr = (int(tr[0]), int(tr[1]))\n",
    "\tbr = (int(br[0]), int(br[1]))\n",
    "\tbl = (int(bl[0]), int(bl[1]))\n",
    "\t# cleanup the text and draw the box surrounding the text along\n",
    "\t# with the OCR'd text itself\n",
    "\ttext = cleanup_text(text)\n",
    "\tcv2.rectangle(cloneImg, tl, br, (0, 255, 0), 2)\n",
    "\n",
    "\n",
    "#\tcv2.putText(cloneImg, text, (tl[0], tl[1] - 10),\n",
    "\n",
    "#   cv2.FONT_HERSHEY_SIMPLEX, 0.8, (0, 255, 0), 2)\n",
    "\n",
    "final_text = \"\"\n",
    "for _, text, __ in results: # _ = bounding box, text = text and __ = confident level\n",
    "\tfinal_text += \" \"\n",
    "\tfinal_text += text\n",
    "print(final_text)\n",
    "\n",
    "# show the output image\n",
    "cv2.imshow('image', cloneImg)\n",
    "cv2.waitKey(0)"
   ]
  },
  {
   "cell_type": "code",
   "execution_count": null,
   "id": "4c2be9a5",
   "metadata": {},
   "outputs": [],
   "source": []
  }
 ],
 "metadata": {
  "kernelspec": {
   "display_name": "Python [conda env:.conda-ocrModelRun]",
   "language": "python",
   "name": "conda-env-.conda-ocrModelRun-py"
  },
  "language_info": {
   "codemirror_mode": {
    "name": "ipython",
    "version": 3
   },
   "file_extension": ".py",
   "mimetype": "text/x-python",
   "name": "python",
   "nbconvert_exporter": "python",
   "pygments_lexer": "ipython3",
   "version": "3.9.12"
  }
 },
 "nbformat": 4,
 "nbformat_minor": 5
}
