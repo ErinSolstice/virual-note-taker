{
 "cells": [
  {
   "cell_type": "code",
   "execution_count": 22,
   "id": "06fa655d",
   "metadata": {},
   "outputs": [],
   "source": [
    "import glob\n",
    "from bs4 import BeautifulSoup\n",
    "from pathlib import Path\n",
    "import csv\n",
    "import itertools\n",
    "import os\n",
    "from wand.image import Image"
   ]
  },
  {
   "cell_type": "code",
   "execution_count": 23,
   "id": "2bac79d8",
   "metadata": {},
   "outputs": [],
   "source": [
    "dst = \"orderedData/wb_train\"\n",
    "dataset = \"trainset.txt\""
   ]
  },
  {
   "cell_type": "code",
   "execution_count": 27,
   "id": "96368f15",
   "metadata": {},
   "outputs": [],
   "source": [
    "dst = \"orderedData/wb_val_1\"\n",
    "dataset = \"testset_v.txt\""
   ]
  },
  {
   "cell_type": "code",
   "execution_count": 33,
   "id": "e46757a7",
   "metadata": {},
   "outputs": [],
   "source": [
    "dst = \"orderedData/wb_val_2\"\n",
    "dataset = \"testset_t.txt\""
   ]
  },
  {
   "cell_type": "code",
   "execution_count": 36,
   "id": "a61e7e33",
   "metadata": {},
   "outputs": [],
   "source": [
    "dst = \"orderedData/wb_test\"\n",
    "dataset = \"testset_f.txt\""
   ]
  },
  {
   "cell_type": "code",
   "execution_count": 37,
   "id": "e5100f82",
   "metadata": {},
   "outputs": [],
   "source": [
    "with open(f\"regs/{dataset}\", 'r') as file:\n",
    "    lines = file.readlines()\n",
    "    lines = [line.rstrip() for line in lines]\n",
    "    lines = [line.lstrip() for line in lines]"
   ]
  },
  {
   "cell_type": "code",
   "execution_count": 38,
   "id": "10024392",
   "metadata": {},
   "outputs": [],
   "source": [
    "# gathering training dataset\n",
    "\n",
    "filename = f\"{dst}/labels.csv\"\n",
    "os.makedirs(os.path.dirname(filename), exist_ok=True)\n",
    "\n",
    "with open(filename, mode='w', newline='') as labels_file:\n",
    "    labels_writer = csv.writer(labels_file, delimiter=',', quotechar='\"', quoting=csv.QUOTE_MINIMAL)\n",
    "    \n",
    "    for item in lines:\n",
    "        fd1 = item[0:3]\n",
    "        fd2 = item[0:7]\n",
    "        src = f\"lineImages/{fd1}/{fd2}\"\n",
    "        imgs = glob.glob(f\"{src}/{item}*\")\n",
    "        \n",
    "        with open(f\"original_part/{fd1}/{fd2}/strokesz.xml\", 'r') as file:\n",
    "            soup = BeautifulSoup(file, 'lxml-xml')\n",
    "            textLines = soup.findAll(\"TextLine\")\n",
    "            \n",
    "            for (img, textLine) in zip(imgs, textLines):\n",
    "                text = textLine.get(\"text\")\n",
    "                name = f\"{Path(img).stem}.jpg\"\n",
    "                labels_writer.writerow([name, text])\n",
    "                \n",
    "                imgReal = Image(filename = img)\n",
    "                imgRealCon = imgReal.convert(\"jpg\")\n",
    "                imgRealCon.save(filename = f\"{dst}/{name}\")\n",
    "#                shutil.copy2(img, dst)"
   ]
  }
 ],
 "metadata": {
  "kernelspec": {
   "display_name": "Python [conda env:ocrModelTrain]",
   "language": "python",
   "name": "conda-env-ocrModelTrain-py"
  },
  "language_info": {
   "codemirror_mode": {
    "name": "ipython",
    "version": 3
   },
   "file_extension": ".py",
   "mimetype": "text/x-python",
   "name": "python",
   "nbconvert_exporter": "python",
   "pygments_lexer": "ipython3",
   "version": "3.9.12"
  }
 },
 "nbformat": 4,
 "nbformat_minor": 5
}
