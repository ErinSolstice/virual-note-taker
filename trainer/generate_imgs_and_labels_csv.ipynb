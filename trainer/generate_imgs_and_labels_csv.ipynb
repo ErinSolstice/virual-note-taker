{
 "cells": [
  {
   "cell_type": "code",
   "execution_count": 2,
   "id": "7f409b2d",
   "metadata": {},
   "outputs": [],
   "source": [
    "import csv\n",
    "import glob\n",
    "import os\n",
    "\n",
    "from trdg.generators import GeneratorFromDict\n",
    "\n",
    "\n",
    "output_dirs = [\"all_data/en_train_filtered\", \"all_data/en_val\"]\n",
    "\n",
    "for output_dir in output_dirs:\n",
    "    generator = GeneratorFromDict(\n",
    "        fonts=glob.glob(\"fonts/*\"),\n",
    "        count=1000,\n",
    "        language=\"en\",\n",
    "        length=3\n",
    "    )\n",
    "\n",
    "    with open(os.path.join(output_dir, \"labels.csv\"), 'w', newline='') as csvfile:\n",
    "        writer = csv.writer(csvfile)\n",
    "        # write csv header\n",
    "        writer.writerow([\"filename\", \"words\"])\n",
    "        for i, (img, label) in enumerate(generator):\n",
    "            img.save(f\"{output_dir}/{i}.jpg\")\n",
    "            writer.writerow([f\"{i}.jpg\", label])"
   ]
  },
  {
   "cell_type": "code",
   "execution_count": null,
   "id": "26529ad0",
   "metadata": {},
   "outputs": [],
   "source": []
  }
 ],
 "metadata": {
  "kernelspec": {
   "display_name": "Python [conda env:textGen]",
   "language": "python",
   "name": "conda-env-textGen-py"
  },
  "language_info": {
   "codemirror_mode": {
    "name": "ipython",
    "version": 3
   },
   "file_extension": ".py",
   "mimetype": "text/x-python",
   "name": "python",
   "nbconvert_exporter": "python",
   "pygments_lexer": "ipython3",
   "version": "3.6.13"
  }
 },
 "nbformat": 4,
 "nbformat_minor": 5
}
